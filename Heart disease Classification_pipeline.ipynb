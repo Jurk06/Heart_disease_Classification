{
 "cells": [
  {
   "cell_type": "code",
   "execution_count": 1,
   "id": "bed11fdd",
   "metadata": {},
   "outputs": [],
   "source": [
    "import pandas as pd\n",
    "import numpy as np\n",
    "import seaborn as sns\n",
    "import matplotlib.pyplot as plt\n",
    "import statsmodels.api as sm\n",
    "from sklearn.linear_model import LinearRegression , Ridge , LogisticRegression\n",
    "from sklearn.preprocessing import LabelEncoder , PolynomialFeatures\n",
    "from sklearn.model_selection import train_test_split\n",
    "from sklearn.metrics import r2_score , mean_squared_error\n",
    "from scipy import stats\n",
    "from sklearn.pipeline import make_pipeline\n",
    "from sklearn.svm import SVC\n",
    "from sklearn.neighbors import KNeighborsClassifier\n",
    "from sklearn import tree\n",
    "from sklearn.tree import DecisionTreeClassifier\n",
    "from xgboost import XGBClassifier\n",
    "from sklearn.ensemble import RandomForestClassifier\n",
    "from imblearn.over_sampling import SMOTE\n",
    "from graphviz import Source\n",
    "from sklearn.naive_bayes import GaussianNB\n",
    "from sklearn.metrics import confusion_matrix , classification_report\n",
    "from mlxtend.plotting import plot_confusion_matrix\n",
    "from sklearn.model_selection import GridSearchCV, RandomizedSearchCV\n",
    "\n",
    "import warnings\n",
    "warnings.filterwarnings('ignore')\n",
    "sns.set(style=\"darkgrid\")\n",
    "\n",
    "plt.style.use('fivethirtyeight')"
   ]
  },
  {
   "cell_type": "code",
   "execution_count": 2,
   "id": "deae06eb",
   "metadata": {},
   "outputs": [],
   "source": [
    "import pandas as pd\n",
    "from sklearn.compose import ColumnTransformer\n",
    "from sklearn.impute import SimpleImputer\n",
    "from sklearn.linear_model import LogisticRegression\n",
    "from sklearn.metrics import classification_report\n",
    "from sklearn.model_selection import GridSearchCV, RepeatedStratifiedKFold\n",
    "from sklearn.pipeline import Pipeline\n",
    "from sklearn.preprocessing import OneHotEncoder, StandardScaler\n",
    "from sklearn import preprocessing"
   ]
  },
  {
   "cell_type": "code",
   "execution_count": 31,
   "id": "4eabf186",
   "metadata": {},
   "outputs": [
    {
     "data": {
      "text/html": [
       "<style type=\"text/css\">\n",
       "#T_6761f_row0_col15, #T_6761f_row1_col15, #T_6761f_row2_col15, #T_6761f_row3_col15, #T_6761f_row4_col15 {\n",
       "  background-color: dodgerblue;\n",
       "}\n",
       "</style>\n",
       "<table id=\"T_6761f_\">\n",
       "  <thead>\n",
       "    <tr>\n",
       "      <th class=\"blank level0\" >&nbsp;</th>\n",
       "      <th class=\"col_heading level0 col0\" >male</th>\n",
       "      <th class=\"col_heading level0 col1\" >age</th>\n",
       "      <th class=\"col_heading level0 col2\" >education</th>\n",
       "      <th class=\"col_heading level0 col3\" >currentSmoker</th>\n",
       "      <th class=\"col_heading level0 col4\" >cigsPerDay</th>\n",
       "      <th class=\"col_heading level0 col5\" >BPMeds</th>\n",
       "      <th class=\"col_heading level0 col6\" >prevalentStroke</th>\n",
       "      <th class=\"col_heading level0 col7\" >prevalentHyp</th>\n",
       "      <th class=\"col_heading level0 col8\" >diabetes</th>\n",
       "      <th class=\"col_heading level0 col9\" >totChol</th>\n",
       "      <th class=\"col_heading level0 col10\" >sysBP</th>\n",
       "      <th class=\"col_heading level0 col11\" >diaBP</th>\n",
       "      <th class=\"col_heading level0 col12\" >BMI</th>\n",
       "      <th class=\"col_heading level0 col13\" >heartRate</th>\n",
       "      <th class=\"col_heading level0 col14\" >glucose</th>\n",
       "      <th class=\"col_heading level0 col15\" >TenYearCHD</th>\n",
       "    </tr>\n",
       "  </thead>\n",
       "  <tbody>\n",
       "    <tr>\n",
       "      <th id=\"T_6761f_level0_row0\" class=\"row_heading level0 row0\" >0</th>\n",
       "      <td id=\"T_6761f_row0_col0\" class=\"data row0 col0\" >1</td>\n",
       "      <td id=\"T_6761f_row0_col1\" class=\"data row0 col1\" >39</td>\n",
       "      <td id=\"T_6761f_row0_col2\" class=\"data row0 col2\" >4.000000</td>\n",
       "      <td id=\"T_6761f_row0_col3\" class=\"data row0 col3\" >0</td>\n",
       "      <td id=\"T_6761f_row0_col4\" class=\"data row0 col4\" >0.000000</td>\n",
       "      <td id=\"T_6761f_row0_col5\" class=\"data row0 col5\" >0.000000</td>\n",
       "      <td id=\"T_6761f_row0_col6\" class=\"data row0 col6\" >0</td>\n",
       "      <td id=\"T_6761f_row0_col7\" class=\"data row0 col7\" >0</td>\n",
       "      <td id=\"T_6761f_row0_col8\" class=\"data row0 col8\" >0</td>\n",
       "      <td id=\"T_6761f_row0_col9\" class=\"data row0 col9\" >195.000000</td>\n",
       "      <td id=\"T_6761f_row0_col10\" class=\"data row0 col10\" >106.000000</td>\n",
       "      <td id=\"T_6761f_row0_col11\" class=\"data row0 col11\" >70.000000</td>\n",
       "      <td id=\"T_6761f_row0_col12\" class=\"data row0 col12\" >26.970000</td>\n",
       "      <td id=\"T_6761f_row0_col13\" class=\"data row0 col13\" >80.000000</td>\n",
       "      <td id=\"T_6761f_row0_col14\" class=\"data row0 col14\" >77.000000</td>\n",
       "      <td id=\"T_6761f_row0_col15\" class=\"data row0 col15\" >0</td>\n",
       "    </tr>\n",
       "    <tr>\n",
       "      <th id=\"T_6761f_level0_row1\" class=\"row_heading level0 row1\" >1</th>\n",
       "      <td id=\"T_6761f_row1_col0\" class=\"data row1 col0\" >0</td>\n",
       "      <td id=\"T_6761f_row1_col1\" class=\"data row1 col1\" >46</td>\n",
       "      <td id=\"T_6761f_row1_col2\" class=\"data row1 col2\" >2.000000</td>\n",
       "      <td id=\"T_6761f_row1_col3\" class=\"data row1 col3\" >0</td>\n",
       "      <td id=\"T_6761f_row1_col4\" class=\"data row1 col4\" >0.000000</td>\n",
       "      <td id=\"T_6761f_row1_col5\" class=\"data row1 col5\" >0.000000</td>\n",
       "      <td id=\"T_6761f_row1_col6\" class=\"data row1 col6\" >0</td>\n",
       "      <td id=\"T_6761f_row1_col7\" class=\"data row1 col7\" >0</td>\n",
       "      <td id=\"T_6761f_row1_col8\" class=\"data row1 col8\" >0</td>\n",
       "      <td id=\"T_6761f_row1_col9\" class=\"data row1 col9\" >250.000000</td>\n",
       "      <td id=\"T_6761f_row1_col10\" class=\"data row1 col10\" >121.000000</td>\n",
       "      <td id=\"T_6761f_row1_col11\" class=\"data row1 col11\" >81.000000</td>\n",
       "      <td id=\"T_6761f_row1_col12\" class=\"data row1 col12\" >28.730000</td>\n",
       "      <td id=\"T_6761f_row1_col13\" class=\"data row1 col13\" >95.000000</td>\n",
       "      <td id=\"T_6761f_row1_col14\" class=\"data row1 col14\" >76.000000</td>\n",
       "      <td id=\"T_6761f_row1_col15\" class=\"data row1 col15\" >0</td>\n",
       "    </tr>\n",
       "    <tr>\n",
       "      <th id=\"T_6761f_level0_row2\" class=\"row_heading level0 row2\" >2</th>\n",
       "      <td id=\"T_6761f_row2_col0\" class=\"data row2 col0\" >1</td>\n",
       "      <td id=\"T_6761f_row2_col1\" class=\"data row2 col1\" >48</td>\n",
       "      <td id=\"T_6761f_row2_col2\" class=\"data row2 col2\" >1.000000</td>\n",
       "      <td id=\"T_6761f_row2_col3\" class=\"data row2 col3\" >1</td>\n",
       "      <td id=\"T_6761f_row2_col4\" class=\"data row2 col4\" >20.000000</td>\n",
       "      <td id=\"T_6761f_row2_col5\" class=\"data row2 col5\" >0.000000</td>\n",
       "      <td id=\"T_6761f_row2_col6\" class=\"data row2 col6\" >0</td>\n",
       "      <td id=\"T_6761f_row2_col7\" class=\"data row2 col7\" >0</td>\n",
       "      <td id=\"T_6761f_row2_col8\" class=\"data row2 col8\" >0</td>\n",
       "      <td id=\"T_6761f_row2_col9\" class=\"data row2 col9\" >245.000000</td>\n",
       "      <td id=\"T_6761f_row2_col10\" class=\"data row2 col10\" >127.500000</td>\n",
       "      <td id=\"T_6761f_row2_col11\" class=\"data row2 col11\" >80.000000</td>\n",
       "      <td id=\"T_6761f_row2_col12\" class=\"data row2 col12\" >25.340000</td>\n",
       "      <td id=\"T_6761f_row2_col13\" class=\"data row2 col13\" >75.000000</td>\n",
       "      <td id=\"T_6761f_row2_col14\" class=\"data row2 col14\" >70.000000</td>\n",
       "      <td id=\"T_6761f_row2_col15\" class=\"data row2 col15\" >0</td>\n",
       "    </tr>\n",
       "    <tr>\n",
       "      <th id=\"T_6761f_level0_row3\" class=\"row_heading level0 row3\" >3</th>\n",
       "      <td id=\"T_6761f_row3_col0\" class=\"data row3 col0\" >0</td>\n",
       "      <td id=\"T_6761f_row3_col1\" class=\"data row3 col1\" >61</td>\n",
       "      <td id=\"T_6761f_row3_col2\" class=\"data row3 col2\" >3.000000</td>\n",
       "      <td id=\"T_6761f_row3_col3\" class=\"data row3 col3\" >1</td>\n",
       "      <td id=\"T_6761f_row3_col4\" class=\"data row3 col4\" >30.000000</td>\n",
       "      <td id=\"T_6761f_row3_col5\" class=\"data row3 col5\" >0.000000</td>\n",
       "      <td id=\"T_6761f_row3_col6\" class=\"data row3 col6\" >0</td>\n",
       "      <td id=\"T_6761f_row3_col7\" class=\"data row3 col7\" >1</td>\n",
       "      <td id=\"T_6761f_row3_col8\" class=\"data row3 col8\" >0</td>\n",
       "      <td id=\"T_6761f_row3_col9\" class=\"data row3 col9\" >225.000000</td>\n",
       "      <td id=\"T_6761f_row3_col10\" class=\"data row3 col10\" >150.000000</td>\n",
       "      <td id=\"T_6761f_row3_col11\" class=\"data row3 col11\" >95.000000</td>\n",
       "      <td id=\"T_6761f_row3_col12\" class=\"data row3 col12\" >28.580000</td>\n",
       "      <td id=\"T_6761f_row3_col13\" class=\"data row3 col13\" >65.000000</td>\n",
       "      <td id=\"T_6761f_row3_col14\" class=\"data row3 col14\" >103.000000</td>\n",
       "      <td id=\"T_6761f_row3_col15\" class=\"data row3 col15\" >1</td>\n",
       "    </tr>\n",
       "    <tr>\n",
       "      <th id=\"T_6761f_level0_row4\" class=\"row_heading level0 row4\" >4</th>\n",
       "      <td id=\"T_6761f_row4_col0\" class=\"data row4 col0\" >0</td>\n",
       "      <td id=\"T_6761f_row4_col1\" class=\"data row4 col1\" >46</td>\n",
       "      <td id=\"T_6761f_row4_col2\" class=\"data row4 col2\" >3.000000</td>\n",
       "      <td id=\"T_6761f_row4_col3\" class=\"data row4 col3\" >1</td>\n",
       "      <td id=\"T_6761f_row4_col4\" class=\"data row4 col4\" >23.000000</td>\n",
       "      <td id=\"T_6761f_row4_col5\" class=\"data row4 col5\" >0.000000</td>\n",
       "      <td id=\"T_6761f_row4_col6\" class=\"data row4 col6\" >0</td>\n",
       "      <td id=\"T_6761f_row4_col7\" class=\"data row4 col7\" >0</td>\n",
       "      <td id=\"T_6761f_row4_col8\" class=\"data row4 col8\" >0</td>\n",
       "      <td id=\"T_6761f_row4_col9\" class=\"data row4 col9\" >285.000000</td>\n",
       "      <td id=\"T_6761f_row4_col10\" class=\"data row4 col10\" >130.000000</td>\n",
       "      <td id=\"T_6761f_row4_col11\" class=\"data row4 col11\" >84.000000</td>\n",
       "      <td id=\"T_6761f_row4_col12\" class=\"data row4 col12\" >23.100000</td>\n",
       "      <td id=\"T_6761f_row4_col13\" class=\"data row4 col13\" >85.000000</td>\n",
       "      <td id=\"T_6761f_row4_col14\" class=\"data row4 col14\" >85.000000</td>\n",
       "      <td id=\"T_6761f_row4_col15\" class=\"data row4 col15\" >0</td>\n",
       "    </tr>\n",
       "  </tbody>\n",
       "</table>\n"
      ],
      "text/plain": [
       "<pandas.io.formats.style.Styler at 0x2911e2d2280>"
      ]
     },
     "execution_count": 31,
     "metadata": {},
     "output_type": "execute_result"
    }
   ],
   "source": [
    "train=pd.read_csv('C:\\\\Users\\\\jurk\\\\Desktop\\heart\\\\framingham.csv')\n",
    "train.head().style.set_properties(subset=['TenYearCHD'], **{'background-color': 'dodgerblue'})"
   ]
  },
  {
   "cell_type": "code",
   "execution_count": 4,
   "id": "55c82399",
   "metadata": {},
   "outputs": [],
   "source": [
    "def dataset_overview(data, col):\n",
    "    \n",
    "    print(\"------------\")\n",
    "    #print(data.head())\n",
    "    print(\"-----------\")\n",
    "    print(\"---------------\")\n",
    "\n",
    "    print(data.columns)\n",
    "    print(\"------------\")\n",
    "    print(\"---------------\")\n",
    "\n",
    "    print(\"Shape of the dataset\")\n",
    "    print(data.shape)\n",
    "    print(\"-------------\")\n",
    "    print(\"---------------\")\n",
    "\n",
    "    print(\"Null Value counts\")\n",
    "    print(data.isnull().sum())\n",
    "    print(\"-------------\")\n",
    "    print(\"---------------\")\n",
    "\n",
    "    print(\"dataset informaation\")\n",
    "    print(data.info())\n",
    "    print(\"---------------\")\n",
    "    print(\"---------------\")\n",
    "    \n",
    "    print(\"The outcome values\",data[col].value_counts(normalize=True))\n",
    "    plt.figure(figsize=(10,5))\n",
    "    print(sns.countplot(x=col, data=data))\n",
    "    plt.show()"
   ]
  },
  {
   "cell_type": "code",
   "execution_count": 6,
   "id": "aec0587f",
   "metadata": {},
   "outputs": [
    {
     "name": "stdout",
     "output_type": "stream",
     "text": [
      "------------\n",
      "-----------\n",
      "---------------\n",
      "Index(['male', 'age', 'education', 'currentSmoker', 'cigsPerDay', 'BPMeds',\n",
      "       'prevalentStroke', 'prevalentHyp', 'diabetes', 'totChol', 'sysBP',\n",
      "       'diaBP', 'BMI', 'heartRate', 'glucose', 'TenYearCHD'],\n",
      "      dtype='object')\n",
      "------------\n",
      "---------------\n",
      "Shape of the dataset\n",
      "(4238, 16)\n",
      "-------------\n",
      "---------------\n",
      "Null Value counts\n",
      "male                 0\n",
      "age                  0\n",
      "education          105\n",
      "currentSmoker        0\n",
      "cigsPerDay          29\n",
      "BPMeds              53\n",
      "prevalentStroke      0\n",
      "prevalentHyp         0\n",
      "diabetes             0\n",
      "totChol             50\n",
      "sysBP                0\n",
      "diaBP                0\n",
      "BMI                 19\n",
      "heartRate            1\n",
      "glucose            388\n",
      "TenYearCHD           0\n",
      "dtype: int64\n",
      "-------------\n",
      "---------------\n",
      "dataset informaation\n",
      "<class 'pandas.core.frame.DataFrame'>\n",
      "RangeIndex: 4238 entries, 0 to 4237\n",
      "Data columns (total 16 columns):\n",
      " #   Column           Non-Null Count  Dtype  \n",
      "---  ------           --------------  -----  \n",
      " 0   male             4238 non-null   int64  \n",
      " 1   age              4238 non-null   int64  \n",
      " 2   education        4133 non-null   float64\n",
      " 3   currentSmoker    4238 non-null   int64  \n",
      " 4   cigsPerDay       4209 non-null   float64\n",
      " 5   BPMeds           4185 non-null   float64\n",
      " 6   prevalentStroke  4238 non-null   int64  \n",
      " 7   prevalentHyp     4238 non-null   int64  \n",
      " 8   diabetes         4238 non-null   int64  \n",
      " 9   totChol          4188 non-null   float64\n",
      " 10  sysBP            4238 non-null   float64\n",
      " 11  diaBP            4238 non-null   float64\n",
      " 12  BMI              4219 non-null   float64\n",
      " 13  heartRate        4237 non-null   float64\n",
      " 14  glucose          3850 non-null   float64\n",
      " 15  TenYearCHD       4238 non-null   int64  \n",
      "dtypes: float64(9), int64(7)\n",
      "memory usage: 529.9 KB\n",
      "None\n",
      "---------------\n",
      "---------------\n",
      "The outcome values 0    0.848042\n",
      "1    0.151958\n",
      "Name: TenYearCHD, dtype: float64\n",
      "AxesSubplot(0.08,0.07;0.87x0.81)\n"
     ]
    },
    {
     "data": {
      "image/png": "[encoded data removed]",
      "text/plain": [
       "<Figure size 720x360 with 1 Axes>"
      ]
     },
     "metadata": {},
     "output_type": "display_data"
    }
   ],
   "source": [
    "dataset_overview(train, 'TenYearCHD')"
   ]
  },
  {
   "cell_type": "code",
   "execution_count": 7,
   "id": "c3996f4f",
   "metadata": {},
   "outputs": [
    {
     "name": "stdout",
     "output_type": "stream",
     "text": [
      "The number of null values in:male == 0\n",
      "The number of null values in:age == 0\n",
      "The number of null values in:education == 105\n",
      "The number of null values in:currentSmoker == 0\n",
      "The number of null values in:cigsPerDay == 29\n",
      "The number of null values in:BPMeds == 53\n",
      "The number of null values in:prevalentStroke == 0\n",
      "The number of null values in:prevalentHyp == 0\n",
      "The number of null values in:diabetes == 0\n",
      "The number of null values in:totChol == 50\n",
      "The number of null values in:sysBP == 0\n",
      "The number of null values in:diaBP == 0\n",
      "The number of null values in:BMI == 19\n",
      "The number of null values in:heartRate == 1\n",
      "The number of null values in:glucose == 388\n",
      "The number of null values in:TenYearCHD == 0\n"
     ]
    }
   ],
   "source": [
    "for _ in train.columns:\n",
    "    print(\"The number of null values in:{} == {}\".format(_, train[_].isnull().sum()))"
   ]
  },
  {
   "cell_type": "markdown",
   "id": "5ac41bc0",
   "metadata": {},
   "source": [
    "# PLoting the columns with Missing values\n"
   ]
  },
  {
   "cell_type": "code",
   "execution_count": 29,
   "id": "acdd6624",
   "metadata": {},
   "outputs": [
    {
     "data": {
      "image/png": "[encoded data removed]",
      "text/plain": [
       "<Figure size 720x360 with 1 Axes>"
      ]
     },
     "metadata": {},
     "output_type": "display_data"
    }
   ],
   "source": [
    "plt.figure(figsize=(10,5))\n",
    "sns.countplot(train['education'], hue=train['TenYearCHD'])\n",
    "plt.show()"
   ]
  },
  {
   "cell_type": "code",
   "execution_count": null,
   "id": "676576fc",
   "metadata": {},
   "outputs": [],
   "source": []
  },
  {
   "cell_type": "code",
   "execution_count": 28,
   "id": "75fba4e5",
   "metadata": {},
   "outputs": [
    {
     "data": {
      "image/png": "[encoded data removed]",
      "text/plain": [
       "<Figure size 648x360 with 1 Axes>"
      ]
     },
     "metadata": {},
     "output_type": "display_data"
    }
   ],
   "source": [
    "plt.figure(figsize=(9,5))\n",
    "sns.countplot(train['cigsPerDay'], hue=train['TenYearCHD'])\n",
    "plt.xticks(rotation=60)\n",
    "plt.show()"
   ]
  },
  {
   "cell_type": "code",
   "execution_count": 27,
   "id": "6c2d157d",
   "metadata": {},
   "outputs": [
    {
     "data": {
      "image/png": "[encoded data removed]",
      "text/plain": [
       "<Figure size 720x360 with 1 Axes>"
      ]
     },
     "metadata": {},
     "output_type": "display_data"
    }
   ],
   "source": [
    "plt.figure(figsize=(10,5))\n",
    "sns.countplot(train['BPMeds'], hue=train['TenYearCHD'])\n",
    "plt.xticks(rotation=60)\n",
    "plt.show()"
   ]
  },
  {
   "cell_type": "code",
   "execution_count": 26,
   "id": "df7d3172",
   "metadata": {},
   "outputs": [
    {
     "data": {
      "image/png": "[encoded data removed]",
      "text/plain": [
       "<Figure size 720x360 with 1 Axes>"
      ]
     },
     "metadata": {},
     "output_type": "display_data"
    }
   ],
   "source": [
    "plt.figure(figsize=(10,5))\n",
    "sns.kdeplot(train['totChol'], shade=True, hue=train['TenYearCHD'])\n",
    "plt.xticks(rotation=60)\n",
    "plt.show()"
   ]
  },
  {
   "cell_type": "code",
   "execution_count": 25,
   "id": "909ab7ae",
   "metadata": {},
   "outputs": [
    {
     "data": {
      "image/png": "[encoded data removed]",
      "text/plain": [
       "<Figure size 720x360 with 1 Axes>"
      ]
     },
     "metadata": {},
     "output_type": "display_data"
    }
   ],
   "source": [
    "plt.figure(figsize=(10,5))\n",
    "sns.kdeplot(train['BMI'], shade=True, hue=train['TenYearCHD'])\n",
    "plt.xticks(rotation=60)\n",
    "plt.show()"
   ]
  },
  {
   "cell_type": "code",
   "execution_count": 22,
   "id": "d5df0d23",
   "metadata": {},
   "outputs": [
    {
     "data": {
      "image/png": "[encoded data removed]",
      "text/plain": [
       "<Figure size 720x360 with 1 Axes>"
      ]
     },
     "metadata": {},
     "output_type": "display_data"
    }
   ],
   "source": [
    "plt.figure(figsize=(10,5))\n",
    "sns.kdeplot(train['heartRate'],hue=train['TenYearCHD'] ,shade=True)\n",
    "plt.xticks(rotation=60)\n",
    "plt.show()"
   ]
  },
  {
   "cell_type": "code",
   "execution_count": 24,
   "id": "03149a74",
   "metadata": {},
   "outputs": [
    {
     "data": {
      "image/png": "[encoded data removed]",
      "text/plain": [
       "<Figure size 720x360 with 1 Axes>"
      ]
     },
     "metadata": {},
     "output_type": "display_data"
    }
   ],
   "source": [
    "plt.figure(figsize=(10,5))\n",
    "sns.kdeplot(train['glucose'],hue=train['TenYearCHD'] ,shade=True)\n",
    "plt.xticks(rotation=60)\n",
    "plt.show()"
   ]
  },
  {
   "cell_type": "code",
   "execution_count": 32,
   "id": "543afbe7",
   "metadata": {},
   "outputs": [
    {
     "data": {
      "image/png": "[encoded data removed]",
      "text/plain": [
       "<Figure size 1152x648 with 2 Axes>"
      ]
     },
     "metadata": {},
     "output_type": "display_data"
    }
   ],
   "source": [
    "f, ax = plt.subplots(nrows=1, ncols=1, figsize=(16,9))\n",
    "\n",
    "sns.heatmap(train.T.isna(), cmap='Blues')\n",
    "ax.set_title('Missing Values', fontsize=16)\n",
    "\n",
    "for tick in ax.yaxis.get_major_ticks():\n",
    "    tick.label.set_fontsize(14)\n",
    "plt.show()"
   ]
  },
  {
   "cell_type": "code",
   "execution_count": 33,
   "id": "e4a888fe",
   "metadata": {},
   "outputs": [
    {
     "data": {
      "text/plain": [
       "Index(['male', 'age', 'education', 'currentSmoker', 'cigsPerDay', 'BPMeds',\n",
       "       'prevalentStroke', 'prevalentHyp', 'diabetes', 'totChol', 'sysBP',\n",
       "       'diaBP', 'BMI', 'heartRate', 'glucose', 'TenYearCHD'],\n",
       "      dtype='object')"
      ]
     },
     "execution_count": 33,
     "metadata": {},
     "output_type": "execute_result"
    }
   ],
   "source": [
    "train.columns"
   ]
  },
  {
   "cell_type": "code",
   "execution_count": 34,
   "id": "6bc1f40b",
   "metadata": {},
   "outputs": [],
   "source": [
    "def correlation_matrix(data):\n",
    "    corr = data.corr().round(2)\n",
    "\n",
    "    # Mask for the upper triangle\n",
    "    mask = np.zeros_like(corr, dtype=np.bool)\n",
    "    mask[np.triu_indices_from(mask)] = True\n",
    "\n",
    "    # Set figure size\n",
    "    f, ax = plt.subplots(figsize=(20, 20))\n",
    "\n",
    "    # Define custom colormap\n",
    "    cmap = sns.diverging_palette(220, 10, as_cmap=True)\n",
    "\n",
    "    # Draw the heatmap\n",
    "    d=sns.heatmap(corr, mask=mask, cmap=cmap, vmin=-1, vmax=1, center=0,\n",
    "                square=True, linewidths=.5, cbar_kws={\"shrink\": .5}, annot=True)\n",
    "\n",
    "    plt.tight_layout()\n",
    "    return d"
   ]
  },
  {
   "cell_type": "code",
   "execution_count": 35,
   "id": "c42e44b6",
   "metadata": {},
   "outputs": [
    {
     "data": {
      "text/plain": [
       "<AxesSubplot:>"
      ]
     },
     "execution_count": 35,
     "metadata": {},
     "output_type": "execute_result"
    },
    {
     "data": {
      "image/png": "[encoded data removed]",
      "text/plain": [
       "<Figure size 1440x1440 with 2 Axes>"
      ]
     },
     "metadata": {},
     "output_type": "display_data"
    }
   ],
   "source": [
    "correlation_matrix(train)\n"
   ]
  },
  {
   "cell_type": "code",
   "execution_count": 36,
   "id": "1410b5bd",
   "metadata": {},
   "outputs": [
    {
     "data": {
      "text/html": [
       "<div>\n",
       "<style scoped>\n",
       "    .dataframe tbody tr th:only-of-type {\n",
       "        vertical-align: middle;\n",
       "    }\n",
       "\n",
       "    .dataframe tbody tr th {\n",
       "        vertical-align: top;\n",
       "    }\n",
       "\n",
       "    .dataframe thead th {\n",
       "        text-align: right;\n",
       "    }\n",
       "</style>\n",
       "<table border=\"1\" class=\"dataframe\">\n",
       "  <thead>\n",
       "    <tr style=\"text-align: right;\">\n",
       "      <th></th>\n",
       "      <th>male</th>\n",
       "      <th>age</th>\n",
       "      <th>education</th>\n",
       "      <th>currentSmoker</th>\n",
       "      <th>cigsPerDay</th>\n",
       "      <th>BPMeds</th>\n",
       "      <th>prevalentStroke</th>\n",
       "      <th>prevalentHyp</th>\n",
       "      <th>diabetes</th>\n",
       "      <th>totChol</th>\n",
       "      <th>sysBP</th>\n",
       "      <th>diaBP</th>\n",
       "      <th>BMI</th>\n",
       "      <th>heartRate</th>\n",
       "      <th>glucose</th>\n",
       "      <th>TenYearCHD</th>\n",
       "    </tr>\n",
       "  </thead>\n",
       "  <tbody>\n",
       "    <tr>\n",
       "      <th>0</th>\n",
       "      <td>1</td>\n",
       "      <td>39</td>\n",
       "      <td>4.0</td>\n",
       "      <td>0</td>\n",
       "      <td>0.0</td>\n",
       "      <td>0.0</td>\n",
       "      <td>0</td>\n",
       "      <td>0</td>\n",
       "      <td>0</td>\n",
       "      <td>195.0</td>\n",
       "      <td>106.0</td>\n",
       "      <td>70.0</td>\n",
       "      <td>26.97</td>\n",
       "      <td>80.0</td>\n",
       "      <td>77.0</td>\n",
       "      <td>0</td>\n",
       "    </tr>\n",
       "    <tr>\n",
       "      <th>1</th>\n",
       "      <td>0</td>\n",
       "      <td>46</td>\n",
       "      <td>2.0</td>\n",
       "      <td>0</td>\n",
       "      <td>0.0</td>\n",
       "      <td>0.0</td>\n",
       "      <td>0</td>\n",
       "      <td>0</td>\n",
       "      <td>0</td>\n",
       "      <td>250.0</td>\n",
       "      <td>121.0</td>\n",
       "      <td>81.0</td>\n",
       "      <td>28.73</td>\n",
       "      <td>95.0</td>\n",
       "      <td>76.0</td>\n",
       "      <td>0</td>\n",
       "    </tr>\n",
       "    <tr>\n",
       "      <th>2</th>\n",
       "      <td>1</td>\n",
       "      <td>48</td>\n",
       "      <td>1.0</td>\n",
       "      <td>1</td>\n",
       "      <td>20.0</td>\n",
       "      <td>0.0</td>\n",
       "      <td>0</td>\n",
       "      <td>0</td>\n",
       "      <td>0</td>\n",
       "      <td>245.0</td>\n",
       "      <td>127.5</td>\n",
       "      <td>80.0</td>\n",
       "      <td>25.34</td>\n",
       "      <td>75.0</td>\n",
       "      <td>70.0</td>\n",
       "      <td>0</td>\n",
       "    </tr>\n",
       "    <tr>\n",
       "      <th>3</th>\n",
       "      <td>0</td>\n",
       "      <td>61</td>\n",
       "      <td>3.0</td>\n",
       "      <td>1</td>\n",
       "      <td>30.0</td>\n",
       "      <td>0.0</td>\n",
       "      <td>0</td>\n",
       "      <td>1</td>\n",
       "      <td>0</td>\n",
       "      <td>225.0</td>\n",
       "      <td>150.0</td>\n",
       "      <td>95.0</td>\n",
       "      <td>28.58</td>\n",
       "      <td>65.0</td>\n",
       "      <td>103.0</td>\n",
       "      <td>1</td>\n",
       "    </tr>\n",
       "    <tr>\n",
       "      <th>4</th>\n",
       "      <td>0</td>\n",
       "      <td>46</td>\n",
       "      <td>3.0</td>\n",
       "      <td>1</td>\n",
       "      <td>23.0</td>\n",
       "      <td>0.0</td>\n",
       "      <td>0</td>\n",
       "      <td>0</td>\n",
       "      <td>0</td>\n",
       "      <td>285.0</td>\n",
       "      <td>130.0</td>\n",
       "      <td>84.0</td>\n",
       "      <td>23.10</td>\n",
       "      <td>85.0</td>\n",
       "      <td>85.0</td>\n",
       "      <td>0</td>\n",
       "    </tr>\n",
       "  </tbody>\n",
       "</table>\n",
       "</div>"
      ],
      "text/plain": [
       "   male  age  education  currentSmoker  cigsPerDay  BPMeds  prevalentStroke  \\\n",
       "0     1   39        4.0              0         0.0     0.0                0   \n",
       "1     0   46        2.0              0         0.0     0.0                0   \n",
       "2     1   48        1.0              1        20.0     0.0                0   \n",
       "3     0   61        3.0              1        30.0     0.0                0   \n",
       "4     0   46        3.0              1        23.0     0.0                0   \n",
       "\n",
       "   prevalentHyp  diabetes  totChol  sysBP  diaBP    BMI  heartRate  glucose  \\\n",
       "0             0         0    195.0  106.0   70.0  26.97       80.0     77.0   \n",
       "1             0         0    250.0  121.0   81.0  28.73       95.0     76.0   \n",
       "2             0         0    245.0  127.5   80.0  25.34       75.0     70.0   \n",
       "3             1         0    225.0  150.0   95.0  28.58       65.0    103.0   \n",
       "4             0         0    285.0  130.0   84.0  23.10       85.0     85.0   \n",
       "\n",
       "   TenYearCHD  \n",
       "0           0  \n",
       "1           0  \n",
       "2           0  \n",
       "3           1  \n",
       "4           0  "
      ]
     },
     "execution_count": 36,
     "metadata": {},
     "output_type": "execute_result"
    }
   ],
   "source": [
    "train.head()"
   ]
  },
  {
   "cell_type": "code",
   "execution_count": 37,
   "id": "4c66446b",
   "metadata": {},
   "outputs": [
    {
     "data": {
      "text/plain": [
       "Index(['male', 'age', 'education', 'currentSmoker', 'cigsPerDay', 'BPMeds',\n",
       "       'prevalentStroke', 'prevalentHyp', 'diabetes', 'totChol', 'sysBP',\n",
       "       'diaBP', 'BMI', 'heartRate', 'glucose', 'TenYearCHD'],\n",
       "      dtype='object')"
      ]
     },
     "execution_count": 37,
     "metadata": {},
     "output_type": "execute_result"
    }
   ],
   "source": [
    "train.columns"
   ]
  },
  {
   "cell_type": "markdown",
   "id": "66f89415",
   "metadata": {},
   "source": [
    "# Dataset spliting "
   ]
  },
  {
   "cell_type": "code",
   "execution_count": 38,
   "id": "dfd40b4c",
   "metadata": {},
   "outputs": [],
   "source": [
    "from sklearn.model_selection import train_test_split"
   ]
  },
  {
   "cell_type": "code",
   "execution_count": 40,
   "id": "174c7abd",
   "metadata": {},
   "outputs": [],
   "source": [
    "X=train.drop('TenYearCHD', axis=1)\n",
    "y=train['TenYearCHD']"
   ]
  },
  {
   "cell_type": "code",
   "execution_count": 41,
   "id": "4d981ce5",
   "metadata": {},
   "outputs": [
    {
     "data": {
      "text/plain": [
       "((4238, 15), (4238,))"
      ]
     },
     "execution_count": 41,
     "metadata": {},
     "output_type": "execute_result"
    }
   ],
   "source": [
    "X.shape, y.shape"
   ]
  },
  {
   "cell_type": "code",
   "execution_count": 42,
   "id": "b83bd428",
   "metadata": {},
   "outputs": [],
   "source": [
    "X_train, X_test, y_train, y_test = train_test_split( X, y, test_size=0.2, random_state=42)"
   ]
  },
  {
   "cell_type": "code",
   "execution_count": 43,
   "id": "18a8f718",
   "metadata": {},
   "outputs": [
    {
     "name": "stdout",
     "output_type": "stream",
     "text": [
      "(3390, 15)\n",
      "(848, 15)\n",
      "(3390,)\n",
      "(848,)\n"
     ]
    }
   ],
   "source": [
    "print(X_train.shape)\n",
    "print(X_test.shape)\n",
    "print(y_train.shape)\n",
    "print(y_test.shape)"
   ]
  },
  {
   "cell_type": "code",
   "execution_count": 44,
   "id": "3c21a24f",
   "metadata": {},
   "outputs": [
    {
     "data": {
      "text/html": [
       "<div>\n",
       "<style scoped>\n",
       "    .dataframe tbody tr th:only-of-type {\n",
       "        vertical-align: middle;\n",
       "    }\n",
       "\n",
       "    .dataframe tbody tr th {\n",
       "        vertical-align: top;\n",
       "    }\n",
       "\n",
       "    .dataframe thead th {\n",
       "        text-align: right;\n",
       "    }\n",
       "</style>\n",
       "<table border=\"1\" class=\"dataframe\">\n",
       "  <thead>\n",
       "    <tr style=\"text-align: right;\">\n",
       "      <th></th>\n",
       "      <th>male</th>\n",
       "      <th>age</th>\n",
       "      <th>education</th>\n",
       "      <th>currentSmoker</th>\n",
       "      <th>cigsPerDay</th>\n",
       "      <th>BPMeds</th>\n",
       "      <th>prevalentStroke</th>\n",
       "      <th>prevalentHyp</th>\n",
       "      <th>diabetes</th>\n",
       "      <th>totChol</th>\n",
       "      <th>sysBP</th>\n",
       "      <th>diaBP</th>\n",
       "      <th>BMI</th>\n",
       "      <th>heartRate</th>\n",
       "      <th>glucose</th>\n",
       "      <th>TenYearCHD</th>\n",
       "    </tr>\n",
       "  </thead>\n",
       "  <tbody>\n",
       "    <tr>\n",
       "      <th>3252</th>\n",
       "      <td>1</td>\n",
       "      <td>40</td>\n",
       "      <td>4.0</td>\n",
       "      <td>1</td>\n",
       "      <td>30.0</td>\n",
       "      <td>0.0</td>\n",
       "      <td>0</td>\n",
       "      <td>0</td>\n",
       "      <td>0</td>\n",
       "      <td>205.0</td>\n",
       "      <td>131.0</td>\n",
       "      <td>81.0</td>\n",
       "      <td>23.74</td>\n",
       "      <td>66.0</td>\n",
       "      <td>87.0</td>\n",
       "      <td>0</td>\n",
       "    </tr>\n",
       "    <tr>\n",
       "      <th>3946</th>\n",
       "      <td>0</td>\n",
       "      <td>57</td>\n",
       "      <td>2.0</td>\n",
       "      <td>0</td>\n",
       "      <td>0.0</td>\n",
       "      <td>0.0</td>\n",
       "      <td>0</td>\n",
       "      <td>1</td>\n",
       "      <td>0</td>\n",
       "      <td>250.0</td>\n",
       "      <td>152.5</td>\n",
       "      <td>92.5</td>\n",
       "      <td>32.31</td>\n",
       "      <td>75.0</td>\n",
       "      <td>94.0</td>\n",
       "      <td>0</td>\n",
       "    </tr>\n",
       "    <tr>\n",
       "      <th>1261</th>\n",
       "      <td>0</td>\n",
       "      <td>47</td>\n",
       "      <td>1.0</td>\n",
       "      <td>0</td>\n",
       "      <td>0.0</td>\n",
       "      <td>0.0</td>\n",
       "      <td>0</td>\n",
       "      <td>0</td>\n",
       "      <td>0</td>\n",
       "      <td>230.0</td>\n",
       "      <td>123.0</td>\n",
       "      <td>71.0</td>\n",
       "      <td>26.98</td>\n",
       "      <td>83.0</td>\n",
       "      <td>73.0</td>\n",
       "      <td>0</td>\n",
       "    </tr>\n",
       "    <tr>\n",
       "      <th>2536</th>\n",
       "      <td>1</td>\n",
       "      <td>41</td>\n",
       "      <td>2.0</td>\n",
       "      <td>1</td>\n",
       "      <td>30.0</td>\n",
       "      <td>0.0</td>\n",
       "      <td>0</td>\n",
       "      <td>0</td>\n",
       "      <td>0</td>\n",
       "      <td>228.0</td>\n",
       "      <td>113.0</td>\n",
       "      <td>82.5</td>\n",
       "      <td>25.67</td>\n",
       "      <td>67.0</td>\n",
       "      <td>70.0</td>\n",
       "      <td>0</td>\n",
       "    </tr>\n",
       "    <tr>\n",
       "      <th>4089</th>\n",
       "      <td>0</td>\n",
       "      <td>64</td>\n",
       "      <td>1.0</td>\n",
       "      <td>0</td>\n",
       "      <td>0.0</td>\n",
       "      <td>0.0</td>\n",
       "      <td>0</td>\n",
       "      <td>1</td>\n",
       "      <td>0</td>\n",
       "      <td>232.0</td>\n",
       "      <td>149.5</td>\n",
       "      <td>84.0</td>\n",
       "      <td>20.49</td>\n",
       "      <td>68.0</td>\n",
       "      <td>96.0</td>\n",
       "      <td>0</td>\n",
       "    </tr>\n",
       "    <tr>\n",
       "      <th>...</th>\n",
       "      <td>...</td>\n",
       "      <td>...</td>\n",
       "      <td>...</td>\n",
       "      <td>...</td>\n",
       "      <td>...</td>\n",
       "      <td>...</td>\n",
       "      <td>...</td>\n",
       "      <td>...</td>\n",
       "      <td>...</td>\n",
       "      <td>...</td>\n",
       "      <td>...</td>\n",
       "      <td>...</td>\n",
       "      <td>...</td>\n",
       "      <td>...</td>\n",
       "      <td>...</td>\n",
       "      <td>...</td>\n",
       "    </tr>\n",
       "    <tr>\n",
       "      <th>3444</th>\n",
       "      <td>0</td>\n",
       "      <td>36</td>\n",
       "      <td>1.0</td>\n",
       "      <td>1</td>\n",
       "      <td>5.0</td>\n",
       "      <td>0.0</td>\n",
       "      <td>0</td>\n",
       "      <td>1</td>\n",
       "      <td>0</td>\n",
       "      <td>222.0</td>\n",
       "      <td>147.0</td>\n",
       "      <td>94.0</td>\n",
       "      <td>26.79</td>\n",
       "      <td>76.0</td>\n",
       "      <td>71.0</td>\n",
       "      <td>0</td>\n",
       "    </tr>\n",
       "    <tr>\n",
       "      <th>466</th>\n",
       "      <td>0</td>\n",
       "      <td>57</td>\n",
       "      <td>3.0</td>\n",
       "      <td>1</td>\n",
       "      <td>15.0</td>\n",
       "      <td>0.0</td>\n",
       "      <td>0</td>\n",
       "      <td>0</td>\n",
       "      <td>0</td>\n",
       "      <td>250.0</td>\n",
       "      <td>125.0</td>\n",
       "      <td>74.0</td>\n",
       "      <td>21.08</td>\n",
       "      <td>80.0</td>\n",
       "      <td>72.0</td>\n",
       "      <td>0</td>\n",
       "    </tr>\n",
       "    <tr>\n",
       "      <th>3092</th>\n",
       "      <td>0</td>\n",
       "      <td>60</td>\n",
       "      <td>2.0</td>\n",
       "      <td>0</td>\n",
       "      <td>0.0</td>\n",
       "      <td>0.0</td>\n",
       "      <td>0</td>\n",
       "      <td>1</td>\n",
       "      <td>0</td>\n",
       "      <td>298.0</td>\n",
       "      <td>133.0</td>\n",
       "      <td>89.0</td>\n",
       "      <td>25.09</td>\n",
       "      <td>83.0</td>\n",
       "      <td>81.0</td>\n",
       "      <td>0</td>\n",
       "    </tr>\n",
       "    <tr>\n",
       "      <th>3772</th>\n",
       "      <td>1</td>\n",
       "      <td>39</td>\n",
       "      <td>2.0</td>\n",
       "      <td>1</td>\n",
       "      <td>10.0</td>\n",
       "      <td>0.0</td>\n",
       "      <td>0</td>\n",
       "      <td>0</td>\n",
       "      <td>0</td>\n",
       "      <td>215.0</td>\n",
       "      <td>102.0</td>\n",
       "      <td>64.5</td>\n",
       "      <td>24.50</td>\n",
       "      <td>68.0</td>\n",
       "      <td>62.0</td>\n",
       "      <td>0</td>\n",
       "    </tr>\n",
       "    <tr>\n",
       "      <th>860</th>\n",
       "      <td>0</td>\n",
       "      <td>35</td>\n",
       "      <td>2.0</td>\n",
       "      <td>0</td>\n",
       "      <td>0.0</td>\n",
       "      <td>0.0</td>\n",
       "      <td>0</td>\n",
       "      <td>0</td>\n",
       "      <td>0</td>\n",
       "      <td>248.0</td>\n",
       "      <td>107.0</td>\n",
       "      <td>73.0</td>\n",
       "      <td>20.64</td>\n",
       "      <td>90.0</td>\n",
       "      <td>80.0</td>\n",
       "      <td>0</td>\n",
       "    </tr>\n",
       "  </tbody>\n",
       "</table>\n",
       "<p>3390 rows × 16 columns</p>\n",
       "</div>"
      ],
      "text/plain": [
       "      male  age  education  currentSmoker  cigsPerDay  BPMeds  \\\n",
       "3252     1   40        4.0              1        30.0     0.0   \n",
       "3946     0   57        2.0              0         0.0     0.0   \n",
       "1261     0   47        1.0              0         0.0     0.0   \n",
       "2536     1   41        2.0              1        30.0     0.0   \n",
       "4089     0   64        1.0              0         0.0     0.0   \n",
       "...    ...  ...        ...            ...         ...     ...   \n",
       "3444     0   36        1.0              1         5.0     0.0   \n",
       "466      0   57        3.0              1        15.0     0.0   \n",
       "3092     0   60        2.0              0         0.0     0.0   \n",
       "3772     1   39        2.0              1        10.0     0.0   \n",
       "860      0   35        2.0              0         0.0     0.0   \n",
       "\n",
       "      prevalentStroke  prevalentHyp  diabetes  totChol  sysBP  diaBP    BMI  \\\n",
       "3252                0             0         0    205.0  131.0   81.0  23.74   \n",
       "3946                0             1         0    250.0  152.5   92.5  32.31   \n",
       "1261                0             0         0    230.0  123.0   71.0  26.98   \n",
       "2536                0             0         0    228.0  113.0   82.5  25.67   \n",
       "4089                0             1         0    232.0  149.5   84.0  20.49   \n",
       "...               ...           ...       ...      ...    ...    ...    ...   \n",
       "3444                0             1         0    222.0  147.0   94.0  26.79   \n",
       "466                 0             0         0    250.0  125.0   74.0  21.08   \n",
       "3092                0             1         0    298.0  133.0   89.0  25.09   \n",
       "3772                0             0         0    215.0  102.0   64.5  24.50   \n",
       "860                 0             0         0    248.0  107.0   73.0  20.64   \n",
       "\n",
       "      heartRate  glucose  TenYearCHD  \n",
       "3252       66.0     87.0           0  \n",
       "3946       75.0     94.0           0  \n",
       "1261       83.0     73.0           0  \n",
       "2536       67.0     70.0           0  \n",
       "4089       68.0     96.0           0  \n",
       "...         ...      ...         ...  \n",
       "3444       76.0     71.0           0  \n",
       "466        80.0     72.0           0  \n",
       "3092       83.0     81.0           0  \n",
       "3772       68.0     62.0           0  \n",
       "860        90.0     80.0           0  \n",
       "\n",
       "[3390 rows x 16 columns]"
      ]
     },
     "metadata": {},
     "output_type": "display_data"
    }
   ],
   "source": [
    "result = pd.concat([X_train, y_train], axis=1, join='inner')\n",
    "display(result)"
   ]
  },
  {
   "cell_type": "code",
   "execution_count": 45,
   "id": "8265ba4c",
   "metadata": {},
   "outputs": [
    {
     "data": {
      "text/plain": [
       "Index(['male', 'age', 'education', 'currentSmoker', 'cigsPerDay', 'BPMeds',\n",
       "       'prevalentStroke', 'prevalentHyp', 'diabetes', 'totChol', 'sysBP',\n",
       "       'diaBP', 'BMI', 'heartRate', 'glucose', 'TenYearCHD'],\n",
       "      dtype='object')"
      ]
     },
     "execution_count": 45,
     "metadata": {},
     "output_type": "execute_result"
    }
   ],
   "source": [
    "result.columns"
   ]
  },
  {
   "cell_type": "code",
   "execution_count": 46,
   "id": "04215d1a",
   "metadata": {},
   "outputs": [],
   "source": [
    "result.to_csv('train.csv')"
   ]
  },
  {
   "cell_type": "code",
   "execution_count": 47,
   "id": "59d24249",
   "metadata": {},
   "outputs": [],
   "source": [
    "X_test.to_csv('test.csv')"
   ]
  },
  {
   "cell_type": "markdown",
   "id": "478cbb47",
   "metadata": {},
   "source": [
    "# Pipeline "
   ]
  },
  {
   "cell_type": "code",
   "execution_count": 52,
   "id": "d0774c37",
   "metadata": {},
   "outputs": [],
   "source": [
    "train=pd.read_csv('C:\\\\Users\\\\jurk\\\\Desktop\\\\heart\\\\train.csv', index_col=[0])"
   ]
  },
  {
   "cell_type": "code",
   "execution_count": 53,
   "id": "6c687bff",
   "metadata": {},
   "outputs": [
    {
     "name": "stdout",
     "output_type": "stream",
     "text": [
      "------------\n",
      "-----------\n",
      "---------------\n",
      "Index(['male', 'age', 'education', 'currentSmoker', 'cigsPerDay', 'BPMeds',\n",
      "       'prevalentStroke', 'prevalentHyp', 'diabetes', 'totChol', 'sysBP',\n",
      "       'diaBP', 'BMI', 'heartRate', 'glucose', 'TenYearCHD'],\n",
      "      dtype='object')\n",
      "------------\n",
      "---------------\n",
      "Shape of the dataset\n",
      "(3390, 16)\n",
      "-------------\n",
      "---------------\n",
      "Null Value counts\n",
      "male                 0\n",
      "age                  0\n",
      "education           88\n",
      "currentSmoker        0\n",
      "cigsPerDay          24\n",
      "BPMeds              48\n",
      "prevalentStroke      0\n",
      "prevalentHyp         0\n",
      "diabetes             0\n",
      "totChol             42\n",
      "sysBP                0\n",
      "diaBP                0\n",
      "BMI                 14\n",
      "heartRate            1\n",
      "glucose            314\n",
      "TenYearCHD           0\n",
      "dtype: int64\n",
      "-------------\n",
      "---------------\n",
      "dataset informaation\n",
      "<class 'pandas.core.frame.DataFrame'>\n",
      "Int64Index: 3390 entries, 3252 to 860\n",
      "Data columns (total 16 columns):\n",
      " #   Column           Non-Null Count  Dtype  \n",
      "---  ------           --------------  -----  \n",
      " 0   male             3390 non-null   int64  \n",
      " 1   age              3390 non-null   int64  \n",
      " 2   education        3302 non-null   float64\n",
      " 3   currentSmoker    3390 non-null   int64  \n",
      " 4   cigsPerDay       3366 non-null   float64\n",
      " 5   BPMeds           3342 non-null   float64\n",
      " 6   prevalentStroke  3390 non-null   int64  \n",
      " 7   prevalentHyp     3390 non-null   int64  \n",
      " 8   diabetes         3390 non-null   int64  \n",
      " 9   totChol          3348 non-null   float64\n",
      " 10  sysBP            3390 non-null   float64\n",
      " 11  diaBP            3390 non-null   float64\n",
      " 12  BMI              3376 non-null   float64\n",
      " 13  heartRate        3389 non-null   float64\n",
      " 14  glucose          3076 non-null   float64\n",
      " 15  TenYearCHD       3390 non-null   int64  \n",
      "dtypes: float64(9), int64(7)\n",
      "memory usage: 450.2 KB\n",
      "None\n",
      "---------------\n",
      "---------------\n",
      "The outcome values 0    0.846608\n",
      "1    0.153392\n",
      "Name: TenYearCHD, dtype: float64\n",
      "AxesSubplot(0.08,0.07;0.87x0.81)\n"
     ]
    },
    {
     "data": {
      "image/png": "[encoded data removed]",
      "text/plain": [
       "<Figure size 720x360 with 1 Axes>"
      ]
     },
     "metadata": {},
     "output_type": "display_data"
    }
   ],
   "source": [
    "dataset_overview(train, 'TenYearCHD')"
   ]
  },
  {
   "cell_type": "code",
   "execution_count": 55,
   "id": "68298f8d",
   "metadata": {},
   "outputs": [
    {
     "data": {
      "text/plain": [
       "male                 0\n",
       "age                  0\n",
       "education           88\n",
       "currentSmoker        0\n",
       "cigsPerDay          24\n",
       "BPMeds              48\n",
       "prevalentStroke      0\n",
       "prevalentHyp         0\n",
       "diabetes             0\n",
       "totChol             42\n",
       "sysBP                0\n",
       "diaBP                0\n",
       "BMI                 14\n",
       "heartRate            1\n",
       "glucose            314\n",
       "TenYearCHD           0\n",
       "dtype: int64"
      ]
     },
     "execution_count": 55,
     "metadata": {},
     "output_type": "execute_result"
    }
   ],
   "source": [
    "train.isna().sum()"
   ]
  },
  {
   "cell_type": "code",
   "execution_count": 54,
   "id": "7fb58842",
   "metadata": {},
   "outputs": [
    {
     "data": {
      "text/plain": [
       "Index(['male', 'age', 'education', 'currentSmoker', 'cigsPerDay', 'BPMeds',\n",
       "       'prevalentStroke', 'prevalentHyp', 'diabetes', 'totChol', 'sysBP',\n",
       "       'diaBP', 'BMI', 'heartRate', 'glucose', 'TenYearCHD'],\n",
       "      dtype='object')"
      ]
     },
     "execution_count": 54,
     "metadata": {},
     "output_type": "execute_result"
    }
   ],
   "source": [
    "train.columns"
   ]
  },
  {
   "cell_type": "code",
   "execution_count": 67,
   "id": "27918698",
   "metadata": {},
   "outputs": [],
   "source": [
    "categorical_features=['male', 'education', 'currentSmoker', 'BPMeds','heartRate']\n",
    "categorical_transformer = Pipeline(\n",
    "    [\n",
    "        ('imputer_cat', SimpleImputer(strategy = 'constant')),\n",
    "        ('onehot', OneHotEncoder(handle_unknown = 'ignore'))\n",
    "    ]\n",
    ")"
   ]
  },
  {
   "cell_type": "code",
   "execution_count": 57,
   "id": "184412cb",
   "metadata": {},
   "outputs": [],
   "source": [
    "numeric_features=[ 'age',   'cigsPerDay', \n",
    "       'prevalentStroke', 'prevalentHyp', 'diabetes', 'totChol', 'sysBP',\n",
    "       'diaBP', 'BMI',  'glucose']\n",
    "\n",
    "numeric_transformer = Pipeline(\n",
    "    [\n",
    "        ('imputer_num', SimpleImputer(strategy = 'median')),\n",
    "        ('scaler', StandardScaler())\n",
    "    ]\n",
    ")"
   ]
  },
  {
   "cell_type": "code",
   "execution_count": 68,
   "id": "2b23830e",
   "metadata": {},
   "outputs": [],
   "source": [
    "preprocessor = ColumnTransformer(\n",
    "    [\n",
    "        ('categoricals', categorical_transformer, categorical_features),\n",
    "        ('numericals', numeric_transformer, numeric_features)\n",
    "    ],\n",
    "    remainder = 'drop'\n",
    ")"
   ]
  },
  {
   "cell_type": "code",
   "execution_count": 69,
   "id": "51f58c09",
   "metadata": {},
   "outputs": [],
   "source": [
    "pipeline = Pipeline(\n",
    "    [\n",
    "        \n",
    "        ('preprocessing', preprocessor),\n",
    "        ('clf', LogisticRegression())\n",
    "    ]\n",
    ")"
   ]
  },
  {
   "cell_type": "markdown",
   "id": "a7f650b1",
   "metadata": {},
   "source": [
    "# Logistic Regression "
   ]
  },
  {
   "cell_type": "code",
   "execution_count": 70,
   "id": "37347eaf",
   "metadata": {},
   "outputs": [],
   "source": [
    "params = {\n",
    "    'clf__solver': ['newton-cg', 'lbfgs', 'liblinear', 'sag', 'saga'],\n",
    "    'clf__penalty': ['l1', 'l2', 'elasticnet', None],\n",
    "    'clf__C': [0.01, 0.1, 1, 10, 100],\n",
    "    'clf__random_state': [42]\n",
    "}"
   ]
  },
  {
   "cell_type": "code",
   "execution_count": 71,
   "id": "d6bdc39d",
   "metadata": {},
   "outputs": [],
   "source": [
    "from sklearn.model_selection import train_test_split, KFold, RandomizedSearchCV\n"
   ]
  },
  {
   "cell_type": "code",
   "execution_count": 72,
   "id": "1f5652ad",
   "metadata": {},
   "outputs": [],
   "source": [
    "cv = KFold(2, shuffle=True, random_state=42)\n"
   ]
  },
  {
   "cell_type": "code",
   "execution_count": 73,
   "id": "00de77b8",
   "metadata": {},
   "outputs": [],
   "source": [
    "warnings.filterwarnings('ignore')\n",
    "ramd_grid = RandomizedSearchCV(pipeline, params, scoring=\"f1\", n_jobs=-1, cv=cv, n_iter=200, verbose=1, random_state=42)"
   ]
  },
  {
   "cell_type": "code",
   "execution_count": 74,
   "id": "5ef5c87b",
   "metadata": {},
   "outputs": [],
   "source": [
    "X=train.drop('TenYearCHD', axis=1)\n",
    "y=train.TenYearCHD"
   ]
  },
  {
   "cell_type": "code",
   "execution_count": 75,
   "id": "89bfc82a",
   "metadata": {},
   "outputs": [
    {
     "name": "stdout",
     "output_type": "stream",
     "text": [
      "Fitting 2 folds for each of 100 candidates, totalling 200 fits\n"
     ]
    },
    {
     "data": {
      "text/plain": [
       "RandomizedSearchCV(cv=KFold(n_splits=2, random_state=42, shuffle=True),\n",
       "                   estimator=Pipeline(steps=[('preprocessing',\n",
       "                                              ColumnTransformer(transformers=[('categoricals',\n",
       "                                                                               Pipeline(steps=[('imputer_cat',\n",
       "                                                                                                SimpleImputer(strategy='constant')),\n",
       "                                                                                               ('onehot',\n",
       "                                                                                                OneHotEncoder(handle_unknown='ignore'))]),\n",
       "                                                                               ['male',\n",
       "                                                                                'education',\n",
       "                                                                                'currentSmoker',\n",
       "                                                                                'BPMeds',\n",
       "                                                                                'heartRate']),\n",
       "                                                                              ('numericals...\n",
       "                                                                                'prevalentStroke',\n",
       "                                                                                'prevalentHyp',\n",
       "                                                                                'diabetes',\n",
       "                                                                                'totChol',\n",
       "                                                                                'sysBP',\n",
       "                                                                                'diaBP',\n",
       "                                                                                'BMI',\n",
       "                                                                                'glucose'])])),\n",
       "                                             ('clf', LogisticRegression())]),\n",
       "                   n_iter=200, n_jobs=-1,\n",
       "                   param_distributions={'clf__C': [0.01, 0.1, 1, 10, 100],\n",
       "                                        'clf__penalty': ['l1', 'l2',\n",
       "                                                         'elasticnet', None],\n",
       "                                        'clf__random_state': [42],\n",
       "                                        'clf__solver': ['newton-cg', 'lbfgs',\n",
       "                                                        'liblinear', 'sag',\n",
       "                                                        'saga']},\n",
       "                   random_state=42, scoring='f1', verbose=1)"
      ]
     },
     "execution_count": 75,
     "metadata": {},
     "output_type": "execute_result"
    }
   ],
   "source": [
    "import warnings\n",
    "ramd_grid.fit(X,y)"
   ]
  },
  {
   "cell_type": "code",
   "execution_count": 76,
   "id": "61e2373a",
   "metadata": {},
   "outputs": [
    {
     "data": {
      "text/plain": [
       "{'clf__solver': 'liblinear',\n",
       " 'clf__random_state': 42,\n",
       " 'clf__penalty': 'l1',\n",
       " 'clf__C': 100}"
      ]
     },
     "execution_count": 76,
     "metadata": {},
     "output_type": "execute_result"
    }
   ],
   "source": [
    "ramd_grid.best_params_\n"
   ]
  },
  {
   "cell_type": "code",
   "execution_count": 95,
   "id": "9bfd269f",
   "metadata": {},
   "outputs": [
    {
     "name": "stdout",
     "output_type": "stream",
     "text": [
      "              precision    recall  f1-score   support\n",
      "\n",
      "           0       0.86      0.99      0.92      2870\n",
      "           1       0.69      0.13      0.21       520\n",
      "\n",
      "    accuracy                           0.86      3390\n",
      "   macro avg       0.77      0.56      0.57      3390\n",
      "weighted avg       0.84      0.86      0.81      3390\n",
      "\n"
     ]
    }
   ],
   "source": [
    "# Get the performance of the model in the train set\n",
    "y_pred_train_rc = ramd_grid.predict(X)\n",
    "lr_score=classification_report(y, y_pred_train_rc)\n",
    "print(lr_score)"
   ]
  },
  {
   "cell_type": "markdown",
   "id": "c75e23c3",
   "metadata": {},
   "source": [
    "# Random Forest"
   ]
  },
  {
   "cell_type": "code",
   "execution_count": 78,
   "id": "bcfbb9ee",
   "metadata": {},
   "outputs": [],
   "source": [
    "pipeline = Pipeline(\n",
    "    [\n",
    "        ('preprocessing', preprocessor),\n",
    "        ('clf', RandomForestClassifier())\n",
    "    ]\n",
    ")"
   ]
  },
  {
   "cell_type": "code",
   "execution_count": 79,
   "id": "a726dfe3",
   "metadata": {},
   "outputs": [],
   "source": [
    "params={ \"clf__n_estimators\": [10, 100, 1000],\n",
    "         \"clf__criterion\": ['gini', 'entropy'],\n",
    "                 \"clf__max_depth\":[5,8,15,25,30,None],\n",
    "                 \"clf__min_samples_leaf\":[1,2,5,10,15,100],\n",
    "                 \"clf__max_leaf_nodes\": [2, 5,10]\n",
    "       }"
   ]
  },
  {
   "cell_type": "code",
   "execution_count": 80,
   "id": "2cf63a44",
   "metadata": {},
   "outputs": [],
   "source": [
    "cv = KFold(2, shuffle=True, random_state=42)\n"
   ]
  },
  {
   "cell_type": "code",
   "execution_count": 81,
   "id": "4feef12e",
   "metadata": {},
   "outputs": [],
   "source": [
    "warnings.filterwarnings('ignore')\n",
    "ramd_grid_rf = RandomizedSearchCV(pipeline, params, scoring=\"f1\", n_jobs=-1, cv=cv, n_iter=200, verbose=1, random_state=42)"
   ]
  },
  {
   "cell_type": "code",
   "execution_count": 82,
   "id": "8781320b",
   "metadata": {},
   "outputs": [
    {
     "name": "stdout",
     "output_type": "stream",
     "text": [
      "Fitting 2 folds for each of 200 candidates, totalling 400 fits\n"
     ]
    },
    {
     "data": {
      "text/plain": [
       "RandomizedSearchCV(cv=KFold(n_splits=2, random_state=42, shuffle=True),\n",
       "                   estimator=Pipeline(steps=[('preprocessing',\n",
       "                                              ColumnTransformer(transformers=[('categoricals',\n",
       "                                                                               Pipeline(steps=[('imputer_cat',\n",
       "                                                                                                SimpleImputer(strategy='constant')),\n",
       "                                                                                               ('onehot',\n",
       "                                                                                                OneHotEncoder(handle_unknown='ignore'))]),\n",
       "                                                                               ['male',\n",
       "                                                                                'education',\n",
       "                                                                                'currentSmoker',\n",
       "                                                                                'BPMeds',\n",
       "                                                                                'heartRate']),\n",
       "                                                                              ('numericals...\n",
       "                                                                                'diabetes',\n",
       "                                                                                'totChol',\n",
       "                                                                                'sysBP',\n",
       "                                                                                'diaBP',\n",
       "                                                                                'BMI',\n",
       "                                                                                'glucose'])])),\n",
       "                                             ('clf',\n",
       "                                              RandomForestClassifier())]),\n",
       "                   n_iter=200, n_jobs=-1,\n",
       "                   param_distributions={'clf__criterion': ['gini', 'entropy'],\n",
       "                                        'clf__max_depth': [5, 8, 15, 25, 30,\n",
       "                                                           None],\n",
       "                                        'clf__max_leaf_nodes': [2, 5, 10],\n",
       "                                        'clf__min_samples_leaf': [1, 2, 5, 10,\n",
       "                                                                  15, 100],\n",
       "                                        'clf__n_estimators': [10, 100, 1000]},\n",
       "                   random_state=42, scoring='f1', verbose=1)"
      ]
     },
     "execution_count": 82,
     "metadata": {},
     "output_type": "execute_result"
    }
   ],
   "source": [
    "import warnings\n",
    "ramd_grid_rf.fit(X,y)"
   ]
  },
  {
   "cell_type": "code",
   "execution_count": 83,
   "id": "423d9f4a",
   "metadata": {},
   "outputs": [
    {
     "data": {
      "text/plain": [
       "{'clf__n_estimators': 10,\n",
       " 'clf__min_samples_leaf': 5,\n",
       " 'clf__max_leaf_nodes': 10,\n",
       " 'clf__max_depth': 5,\n",
       " 'clf__criterion': 'gini'}"
      ]
     },
     "execution_count": 83,
     "metadata": {},
     "output_type": "execute_result"
    }
   ],
   "source": [
    "ramd_grid_rf.best_params_\n"
   ]
  },
  {
   "cell_type": "code",
   "execution_count": 97,
   "id": "9f7c5cae",
   "metadata": {},
   "outputs": [
    {
     "name": "stdout",
     "output_type": "stream",
     "text": [
      "              precision    recall  f1-score   support\n",
      "\n",
      "           0       0.85      1.00      0.92      2870\n",
      "           1       1.00      0.00      0.00       520\n",
      "\n",
      "    accuracy                           0.85      3390\n",
      "   macro avg       0.92      0.50      0.46      3390\n",
      "weighted avg       0.87      0.85      0.78      3390\n",
      "\n"
     ]
    }
   ],
   "source": [
    "# Get the performance of the model in the train set\n",
    "y_pred_train_rf = ramd_grid_rf.predict(X)\n",
    "rf_score=classification_report(y, y_pred_train_rf)\n",
    "print(rf_score)"
   ]
  },
  {
   "cell_type": "markdown",
   "id": "8972f326",
   "metadata": {},
   "source": [
    "# Pipeline Using XGBoost\n"
   ]
  },
  {
   "cell_type": "code",
   "execution_count": 85,
   "id": "03c617e1",
   "metadata": {},
   "outputs": [],
   "source": [
    "preprocessor = ColumnTransformer(\n",
    "    [\n",
    "        ('categoricals', categorical_transformer, categorical_features),\n",
    "        ('numericals', numeric_transformer, numeric_features)\n",
    "    ],\n",
    "    remainder = 'drop'\n",
    ")"
   ]
  },
  {
   "cell_type": "code",
   "execution_count": 86,
   "id": "573feaec",
   "metadata": {},
   "outputs": [],
   "source": [
    "# Create the pipeline, with the tranformer and the model\n",
    "pipeline = Pipeline(\n",
    "    [\n",
    "        ('preprocessing', preprocessor),\n",
    "        ('clf', XGBClassifier())\n",
    "    ]\n",
    ")"
   ]
  },
  {
   "cell_type": "code",
   "execution_count": 87,
   "id": "2d873b51",
   "metadata": {},
   "outputs": [],
   "source": [
    "params={\n",
    "        \"clf__n_estimators\": np.arange(50, 750, 50), \n",
    "        \"clf__max_depth\": np.arange(2, 10, 1),\n",
    "        'clf__lambda': [0.5,0.75,1,1.5],\n",
    "        'clf__alpha': [0,0.5,0.75,1,1.5]\n",
    "    }"
   ]
  },
  {
   "cell_type": "code",
   "execution_count": 88,
   "id": "03ebdf1b",
   "metadata": {},
   "outputs": [],
   "source": [
    "cv = KFold(2, shuffle=True, random_state=42)\n"
   ]
  },
  {
   "cell_type": "code",
   "execution_count": 89,
   "id": "447db9c7",
   "metadata": {},
   "outputs": [],
   "source": [
    "warnings.filterwarnings('ignore')\n",
    "ramd_grid_xb = RandomizedSearchCV(pipeline, params, scoring=\"f1\", n_jobs=-1, cv=cv, n_iter=200, verbose=1, random_state=42)"
   ]
  },
  {
   "cell_type": "code",
   "execution_count": 90,
   "id": "18dcf33f",
   "metadata": {},
   "outputs": [
    {
     "name": "stdout",
     "output_type": "stream",
     "text": [
      "Fitting 2 folds for each of 200 candidates, totalling 400 fits\n",
      "[18:59:23] WARNING: C:/Users/Administrator/workspace/xgboost-win64_release_1.5.1/src/learner.cc:1115: Starting in XGBoost 1.3.0, the default evaluation metric used with the objective 'binary:logistic' was changed from 'error' to 'logloss'. Explicitly set eval_metric if you'd like to restore the old behavior.\n"
     ]
    },
    {
     "data": {
      "text/plain": [
       "RandomizedSearchCV(cv=KFold(n_splits=2, random_state=42, shuffle=True),\n",
       "                   estimator=Pipeline(steps=[('preprocessing',\n",
       "                                              ColumnTransformer(transformers=[('categoricals',\n",
       "                                                                               Pipeline(steps=[('imputer_cat',\n",
       "                                                                                                SimpleImputer(strategy='constant')),\n",
       "                                                                                               ('onehot',\n",
       "                                                                                                OneHotEncoder(handle_unknown='ignore'))]),\n",
       "                                                                               ['male',\n",
       "                                                                                'education',\n",
       "                                                                                'currentSmoker',\n",
       "                                                                                'BPMeds',\n",
       "                                                                                'heartRate']),\n",
       "                                                                              ('numericals...\n",
       "                                                            scale_pos_weight=None,\n",
       "                                                            subsample=None,\n",
       "                                                            tree_method=None,\n",
       "                                                            validate_parameters=None,\n",
       "                                                            verbosity=None))]),\n",
       "                   n_iter=200, n_jobs=-1,\n",
       "                   param_distributions={'clf__alpha': [0, 0.5, 0.75, 1, 1.5],\n",
       "                                        'clf__lambda': [0.5, 0.75, 1, 1.5],\n",
       "                                        'clf__max_depth': array([2, 3, 4, 5, 6, 7, 8, 9]),\n",
       "                                        'clf__n_estimators': array([ 50, 100, 150, 200, 250, 300, 350, 400, 450, 500, 550, 600, 650,\n",
       "       700])},\n",
       "                   random_state=42, scoring='f1', verbose=1)"
      ]
     },
     "execution_count": 90,
     "metadata": {},
     "output_type": "execute_result"
    }
   ],
   "source": [
    "import warnings\n",
    "ramd_grid_xb.fit(X,y)"
   ]
  },
  {
   "cell_type": "code",
   "execution_count": 91,
   "id": "ff700987",
   "metadata": {},
   "outputs": [
    {
     "data": {
      "text/plain": [
       "{'clf__n_estimators': 450,\n",
       " 'clf__max_depth': 2,\n",
       " 'clf__lambda': 1,\n",
       " 'clf__alpha': 0.5}"
      ]
     },
     "execution_count": 91,
     "metadata": {},
     "output_type": "execute_result"
    }
   ],
   "source": [
    "ramd_grid_xb.best_params_\n"
   ]
  },
  {
   "cell_type": "code",
   "execution_count": 96,
   "id": "7c703ce7",
   "metadata": {},
   "outputs": [
    {
     "name": "stdout",
     "output_type": "stream",
     "text": [
      "              precision    recall  f1-score   support\n",
      "\n",
      "           0       0.90      1.00      0.95      2870\n",
      "           1       0.97      0.37      0.54       520\n",
      "\n",
      "    accuracy                           0.90      3390\n",
      "   macro avg       0.94      0.68      0.74      3390\n",
      "weighted avg       0.91      0.90      0.88      3390\n",
      "\n"
     ]
    }
   ],
   "source": [
    "# Get the performance of the model in the train set\n",
    "y_pred_train_xb = ramd_grid_xb.predict(X)\n",
    "xgb_evaluation=classification_report(y, y_pred_train_xb)\n",
    "print(xgb_evaluation)"
   ]
  },
  {
   "cell_type": "markdown",
   "id": "af731228",
   "metadata": {},
   "source": [
    "# Model Comparision "
   ]
  },
  {
   "cell_type": "code",
   "execution_count": 105,
   "id": "9d0907f6",
   "metadata": {},
   "outputs": [
    {
     "name": "stdout",
     "output_type": "stream",
     "text": [
      "Logistic Regression\n",
      "              precision    recall  f1-score   support\n",
      "\n",
      "           0       0.86      0.99      0.92      2870\n",
      "           1       0.69      0.13      0.21       520\n",
      "\n",
      "    accuracy                           0.86      3390\n",
      "   macro avg       0.77      0.56      0.57      3390\n",
      "weighted avg       0.84      0.86      0.81      3390\n",
      "\n"
     ]
    }
   ],
   "source": [
    "print(\"Logistic Regression\")\n",
    "print(lr_score)"
   ]
  },
  {
   "cell_type": "code",
   "execution_count": 106,
   "id": "2799b376",
   "metadata": {},
   "outputs": [
    {
     "name": "stdout",
     "output_type": "stream",
     "text": [
      "random Forest\n",
      "              precision    recall  f1-score   support\n",
      "\n",
      "           0       0.85      1.00      0.92      2870\n",
      "           1       1.00      0.00      0.00       520\n",
      "\n",
      "    accuracy                           0.85      3390\n",
      "   macro avg       0.92      0.50      0.46      3390\n",
      "weighted avg       0.87      0.85      0.78      3390\n",
      "\n"
     ]
    }
   ],
   "source": [
    "print(\"random Forest\")\n",
    "print(rf_score)"
   ]
  },
  {
   "cell_type": "code",
   "execution_count": 107,
   "id": "13d6b8eb",
   "metadata": {},
   "outputs": [
    {
     "name": "stdout",
     "output_type": "stream",
     "text": [
      "XGBoost\n",
      "              precision    recall  f1-score   support\n",
      "\n",
      "           0       0.90      1.00      0.95      2870\n",
      "           1       0.97      0.37      0.54       520\n",
      "\n",
      "    accuracy                           0.90      3390\n",
      "   macro avg       0.94      0.68      0.74      3390\n",
      "weighted avg       0.91      0.90      0.88      3390\n",
      "\n"
     ]
    }
   ],
   "source": [
    "print(\"XGBoost\")\n",
    "print(xgb_evaluation)"
   ]
  },
  {
   "cell_type": "markdown",
   "id": "c84bc5d5",
   "metadata": {},
   "source": [
    "> AS we can see that XGBoost is working very good for this dataset. "
   ]
  },
  {
   "cell_type": "markdown",
   "id": "f2ade824",
   "metadata": {},
   "source": [
    "# Saving the pipeline in pickle file"
   ]
  },
  {
   "cell_type": "code",
   "execution_count": 108,
   "id": "b019a071",
   "metadata": {},
   "outputs": [],
   "source": [
    "import pickle\n",
    "from joblib import dump, load"
   ]
  },
  {
   "cell_type": "code",
   "execution_count": 109,
   "id": "b0d509db",
   "metadata": {},
   "outputs": [
    {
     "data": {
      "text/plain": [
       "['heart_disease_pipe.joblib']"
      ]
     },
     "execution_count": 109,
     "metadata": {},
     "output_type": "execute_result"
    }
   ],
   "source": [
    "dump(ramd_grid_xb, 'heart_disease_pipe.joblib') \n"
   ]
  },
  {
   "cell_type": "code",
   "execution_count": 110,
   "id": "74166258",
   "metadata": {},
   "outputs": [],
   "source": [
    "def prediction_pickle(path_model, path_data):\n",
    "    s=load(path_model)\n",
    "    input_data = pd.read_csv(path_data)\n",
    "    prediction=s.predict(input_data)\n",
    "    input_data['prediction'] = prediction\n",
    "    return input_data"
   ]
  },
  {
   "cell_type": "code",
   "execution_count": 111,
   "id": "08c25979",
   "metadata": {},
   "outputs": [],
   "source": [
    "path_model_xb='C:\\\\Users\\\\jurk\\\\Desktop\\\\heart\\heart_disease_pipe.joblib'\n",
    "path_data_xb='C:\\\\Users\\\\jurk\\\\Desktop\\\\heart\\\\test.csv'"
   ]
  },
  {
   "cell_type": "code",
   "execution_count": 112,
   "id": "4bcb5682",
   "metadata": {},
   "outputs": [
    {
     "data": {
      "text/html": [
       "<div>\n",
       "<style scoped>\n",
       "    .dataframe tbody tr th:only-of-type {\n",
       "        vertical-align: middle;\n",
       "    }\n",
       "\n",
       "    .dataframe tbody tr th {\n",
       "        vertical-align: top;\n",
       "    }\n",
       "\n",
       "    .dataframe thead th {\n",
       "        text-align: right;\n",
       "    }\n",
       "</style>\n",
       "<table border=\"1\" class=\"dataframe\">\n",
       "  <thead>\n",
       "    <tr style=\"text-align: right;\">\n",
       "      <th></th>\n",
       "      <th>Unnamed: 0</th>\n",
       "      <th>male</th>\n",
       "      <th>age</th>\n",
       "      <th>education</th>\n",
       "      <th>currentSmoker</th>\n",
       "      <th>cigsPerDay</th>\n",
       "      <th>BPMeds</th>\n",
       "      <th>prevalentStroke</th>\n",
       "      <th>prevalentHyp</th>\n",
       "      <th>diabetes</th>\n",
       "      <th>totChol</th>\n",
       "      <th>sysBP</th>\n",
       "      <th>diaBP</th>\n",
       "      <th>BMI</th>\n",
       "      <th>heartRate</th>\n",
       "      <th>glucose</th>\n",
       "      <th>prediction</th>\n",
       "    </tr>\n",
       "  </thead>\n",
       "  <tbody>\n",
       "    <tr>\n",
       "      <th>0</th>\n",
       "      <td>3188</td>\n",
       "      <td>1</td>\n",
       "      <td>63</td>\n",
       "      <td>1.0</td>\n",
       "      <td>0</td>\n",
       "      <td>0.0</td>\n",
       "      <td>0.0</td>\n",
       "      <td>0</td>\n",
       "      <td>1</td>\n",
       "      <td>0</td>\n",
       "      <td>190.0</td>\n",
       "      <td>148.0</td>\n",
       "      <td>90.0</td>\n",
       "      <td>27.13</td>\n",
       "      <td>72.0</td>\n",
       "      <td>86.0</td>\n",
       "      <td>0</td>\n",
       "    </tr>\n",
       "    <tr>\n",
       "      <th>1</th>\n",
       "      <td>764</td>\n",
       "      <td>1</td>\n",
       "      <td>45</td>\n",
       "      <td>3.0</td>\n",
       "      <td>0</td>\n",
       "      <td>0.0</td>\n",
       "      <td>0.0</td>\n",
       "      <td>0</td>\n",
       "      <td>0</td>\n",
       "      <td>0</td>\n",
       "      <td>162.0</td>\n",
       "      <td>125.0</td>\n",
       "      <td>89.0</td>\n",
       "      <td>27.98</td>\n",
       "      <td>85.0</td>\n",
       "      <td>83.0</td>\n",
       "      <td>0</td>\n",
       "    </tr>\n",
       "    <tr>\n",
       "      <th>2</th>\n",
       "      <td>3264</td>\n",
       "      <td>0</td>\n",
       "      <td>51</td>\n",
       "      <td>1.0</td>\n",
       "      <td>1</td>\n",
       "      <td>2.0</td>\n",
       "      <td>0.0</td>\n",
       "      <td>0</td>\n",
       "      <td>0</td>\n",
       "      <td>0</td>\n",
       "      <td>261.0</td>\n",
       "      <td>127.0</td>\n",
       "      <td>81.0</td>\n",
       "      <td>20.24</td>\n",
       "      <td>75.0</td>\n",
       "      <td>96.0</td>\n",
       "      <td>0</td>\n",
       "    </tr>\n",
       "    <tr>\n",
       "      <th>3</th>\n",
       "      <td>1967</td>\n",
       "      <td>1</td>\n",
       "      <td>45</td>\n",
       "      <td>3.0</td>\n",
       "      <td>1</td>\n",
       "      <td>30.0</td>\n",
       "      <td>0.0</td>\n",
       "      <td>0</td>\n",
       "      <td>0</td>\n",
       "      <td>0</td>\n",
       "      <td>250.0</td>\n",
       "      <td>126.0</td>\n",
       "      <td>89.5</td>\n",
       "      <td>28.68</td>\n",
       "      <td>75.0</td>\n",
       "      <td>92.0</td>\n",
       "      <td>0</td>\n",
       "    </tr>\n",
       "    <tr>\n",
       "      <th>4</th>\n",
       "      <td>2185</td>\n",
       "      <td>0</td>\n",
       "      <td>45</td>\n",
       "      <td>2.0</td>\n",
       "      <td>1</td>\n",
       "      <td>3.0</td>\n",
       "      <td>0.0</td>\n",
       "      <td>0</td>\n",
       "      <td>0</td>\n",
       "      <td>0</td>\n",
       "      <td>250.0</td>\n",
       "      <td>130.0</td>\n",
       "      <td>80.0</td>\n",
       "      <td>20.24</td>\n",
       "      <td>90.0</td>\n",
       "      <td>86.0</td>\n",
       "      <td>0</td>\n",
       "    </tr>\n",
       "    <tr>\n",
       "      <th>...</th>\n",
       "      <td>...</td>\n",
       "      <td>...</td>\n",
       "      <td>...</td>\n",
       "      <td>...</td>\n",
       "      <td>...</td>\n",
       "      <td>...</td>\n",
       "      <td>...</td>\n",
       "      <td>...</td>\n",
       "      <td>...</td>\n",
       "      <td>...</td>\n",
       "      <td>...</td>\n",
       "      <td>...</td>\n",
       "      <td>...</td>\n",
       "      <td>...</td>\n",
       "      <td>...</td>\n",
       "      <td>...</td>\n",
       "      <td>...</td>\n",
       "    </tr>\n",
       "    <tr>\n",
       "      <th>843</th>\n",
       "      <td>3303</td>\n",
       "      <td>1</td>\n",
       "      <td>47</td>\n",
       "      <td>1.0</td>\n",
       "      <td>0</td>\n",
       "      <td>0.0</td>\n",
       "      <td>0.0</td>\n",
       "      <td>0</td>\n",
       "      <td>0</td>\n",
       "      <td>0</td>\n",
       "      <td>259.0</td>\n",
       "      <td>139.0</td>\n",
       "      <td>79.0</td>\n",
       "      <td>29.34</td>\n",
       "      <td>70.0</td>\n",
       "      <td>71.0</td>\n",
       "      <td>0</td>\n",
       "    </tr>\n",
       "    <tr>\n",
       "      <th>844</th>\n",
       "      <td>4056</td>\n",
       "      <td>1</td>\n",
       "      <td>44</td>\n",
       "      <td>2.0</td>\n",
       "      <td>0</td>\n",
       "      <td>0.0</td>\n",
       "      <td>0.0</td>\n",
       "      <td>0</td>\n",
       "      <td>0</td>\n",
       "      <td>0</td>\n",
       "      <td>254.0</td>\n",
       "      <td>130.0</td>\n",
       "      <td>80.0</td>\n",
       "      <td>28.15</td>\n",
       "      <td>80.0</td>\n",
       "      <td>74.0</td>\n",
       "      <td>0</td>\n",
       "    </tr>\n",
       "    <tr>\n",
       "      <th>845</th>\n",
       "      <td>4210</td>\n",
       "      <td>1</td>\n",
       "      <td>50</td>\n",
       "      <td>1.0</td>\n",
       "      <td>0</td>\n",
       "      <td>0.0</td>\n",
       "      <td>0.0</td>\n",
       "      <td>0</td>\n",
       "      <td>0</td>\n",
       "      <td>0</td>\n",
       "      <td>282.0</td>\n",
       "      <td>126.5</td>\n",
       "      <td>88.0</td>\n",
       "      <td>27.30</td>\n",
       "      <td>85.0</td>\n",
       "      <td>87.0</td>\n",
       "      <td>0</td>\n",
       "    </tr>\n",
       "    <tr>\n",
       "      <th>846</th>\n",
       "      <td>3971</td>\n",
       "      <td>1</td>\n",
       "      <td>64</td>\n",
       "      <td>3.0</td>\n",
       "      <td>0</td>\n",
       "      <td>0.0</td>\n",
       "      <td>0.0</td>\n",
       "      <td>0</td>\n",
       "      <td>1</td>\n",
       "      <td>1</td>\n",
       "      <td>195.0</td>\n",
       "      <td>176.0</td>\n",
       "      <td>78.0</td>\n",
       "      <td>24.90</td>\n",
       "      <td>95.0</td>\n",
       "      <td>370.0</td>\n",
       "      <td>1</td>\n",
       "    </tr>\n",
       "    <tr>\n",
       "      <th>847</th>\n",
       "      <td>2540</td>\n",
       "      <td>1</td>\n",
       "      <td>55</td>\n",
       "      <td>3.0</td>\n",
       "      <td>1</td>\n",
       "      <td>20.0</td>\n",
       "      <td>0.0</td>\n",
       "      <td>0</td>\n",
       "      <td>0</td>\n",
       "      <td>0</td>\n",
       "      <td>214.0</td>\n",
       "      <td>110.0</td>\n",
       "      <td>71.0</td>\n",
       "      <td>24.24</td>\n",
       "      <td>75.0</td>\n",
       "      <td>72.0</td>\n",
       "      <td>0</td>\n",
       "    </tr>\n",
       "  </tbody>\n",
       "</table>\n",
       "<p>848 rows × 17 columns</p>\n",
       "</div>"
      ],
      "text/plain": [
       "     Unnamed: 0  male  age  education  currentSmoker  cigsPerDay  BPMeds  \\\n",
       "0          3188     1   63        1.0              0         0.0     0.0   \n",
       "1           764     1   45        3.0              0         0.0     0.0   \n",
       "2          3264     0   51        1.0              1         2.0     0.0   \n",
       "3          1967     1   45        3.0              1        30.0     0.0   \n",
       "4          2185     0   45        2.0              1         3.0     0.0   \n",
       "..          ...   ...  ...        ...            ...         ...     ...   \n",
       "843        3303     1   47        1.0              0         0.0     0.0   \n",
       "844        4056     1   44        2.0              0         0.0     0.0   \n",
       "845        4210     1   50        1.0              0         0.0     0.0   \n",
       "846        3971     1   64        3.0              0         0.0     0.0   \n",
       "847        2540     1   55        3.0              1        20.0     0.0   \n",
       "\n",
       "     prevalentStroke  prevalentHyp  diabetes  totChol  sysBP  diaBP    BMI  \\\n",
       "0                  0             1         0    190.0  148.0   90.0  27.13   \n",
       "1                  0             0         0    162.0  125.0   89.0  27.98   \n",
       "2                  0             0         0    261.0  127.0   81.0  20.24   \n",
       "3                  0             0         0    250.0  126.0   89.5  28.68   \n",
       "4                  0             0         0    250.0  130.0   80.0  20.24   \n",
       "..               ...           ...       ...      ...    ...    ...    ...   \n",
       "843                0             0         0    259.0  139.0   79.0  29.34   \n",
       "844                0             0         0    254.0  130.0   80.0  28.15   \n",
       "845                0             0         0    282.0  126.5   88.0  27.30   \n",
       "846                0             1         1    195.0  176.0   78.0  24.90   \n",
       "847                0             0         0    214.0  110.0   71.0  24.24   \n",
       "\n",
       "     heartRate  glucose  prediction  \n",
       "0         72.0     86.0           0  \n",
       "1         85.0     83.0           0  \n",
       "2         75.0     96.0           0  \n",
       "3         75.0     92.0           0  \n",
       "4         90.0     86.0           0  \n",
       "..         ...      ...         ...  \n",
       "843       70.0     71.0           0  \n",
       "844       80.0     74.0           0  \n",
       "845       85.0     87.0           0  \n",
       "846       95.0    370.0           1  \n",
       "847       75.0     72.0           0  \n",
       "\n",
       "[848 rows x 17 columns]"
      ]
     },
     "execution_count": 112,
     "metadata": {},
     "output_type": "execute_result"
    }
   ],
   "source": [
    "prediction_pickle(path_model_xb, path_data_xb)\n"
   ]
  },
  {
   "cell_type": "code",
   "execution_count": null,
   "id": "5f3ebc96",
   "metadata": {},
   "outputs": [],
   "source": []
  }
 ],
 "metadata": {
  "kernelspec": {
   "display_name": "Python 3 (ipykernel)",
   "language": "python",
   "name": "python3"
  },
  "language_info": {
   "codemirror_mode": {
    "name": "ipython",
    "version": 3
   },
   "file_extension": ".py",
   "mimetype": "text/x-python",
   "name": "python",
   "nbconvert_exporter": "python",
   "pygments_lexer": "ipython3",
   "version": "3.9.7"
  }
 },
 "nbformat": 4,
 "nbformat_minor": 5
}
